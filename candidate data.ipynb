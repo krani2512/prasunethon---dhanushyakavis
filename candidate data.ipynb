<!DOCTYPE html>
<html lang="en">
<head>
    <meta charset="UTF-8">
    <meta name="viewport" content="width=device-width, initial-scale=1.0">
    <title>Blockchain Voting System - Client Data</title>
    <style>
        body { font-family: Arial, sans-serif; line-height: 1.6; margin: 0; padding: 20px; }
        .container { max-width: 800px; margin: 0 auto; }
        h1, h2 { color: #333; }
        table { width: 100%; border-collapse: collapse; }
        th, td { border: 1px solid #ddd; padding: 8px; text-align: left; }
        th { background-color: #f2f2f2; }
    </style>
</head>
<body>
    <div class="container">
        <h1>Blockchain Voting System - Client Data</h1>
        
        <h2>Registered Voters</h2>
        <table>
            <tr>
                <th>Voter ID</th>
                <th>Name</th>
                <th>Status</th>
            </tr>
            <tr>
                <td>V001</td>
                <td>John Doe</td>
                <td>Not Voted</td>
            </tr>
            <tr>
                <td>V002</td>
                <td>Jane Smith</td>
                <td>Voted</td>
            </tr>
            <tr>
                <td>V003</td>
                <td>Bob Johnson</td>
                <td>Not Voted</td>
            </tr>
        </table>

        <h2>Candidates</h2>
        <table>
            <tr>
                <th>Candidate ID</th>
                <th>Name</th>
                <th>Party</th>
            </tr>
            <tr>
                <td>C001</td>
                <td>Alice Brown</td>
                <td>Party A</td>
            </tr>
            <tr>
                <td>C002</td>
                <td>Charlie Davis</td>
                <td>Party B</td>
            </tr>
            <tr>
                <td>C003</td>
                <td>Eva White</td>
                <td>Party C</td>
            </tr>
        </table>

        <h2>Vote Records</h2>
        <table>
            <tr>
                <th>Vote ID</th>
                <th>Timestamp</th>
                <th>Status</th>
            </tr>
            <tr>
                <td>VOTE001</td>
                <td>2024-06-29 10:15:30</td>
                <td>Verified</td>
            </tr>
            <tr>
                <td>VOTE002</td>
                <td>2024-06-29 11:20:45</td>
                <td>Pending Verification</td>
            </tr>
        </table>
    </div>
</body>
</html>
