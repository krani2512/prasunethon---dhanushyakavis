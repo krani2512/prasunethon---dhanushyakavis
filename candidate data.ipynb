import hashlib
import time

# Candidate structure
class Candidate:
    def __init__(self, candidate_id, name, party):
        self.candidate_id = candidate_id
        self.name = name
        self.party = party
        self.votes = 0

    def __repr__(self):
        return f"Candidate({self.candidate_id}, {self.name}, {self.party}, Votes: {self.votes})"

# A simple Block
class Block:
    def __init__(self, index, timestamp, data, previous_hash):
        self.index = index
        self.timestamp = timestamp
        self.data = data  # candidate data or voting transaction
        self.previous_hash = previous_hash
        self.hash = self.hash_block()

    def hash_block(self):
        sha = hashlib.sha256()
        hash_str = (str(self.index) + str(self.timestamp) + str(self.data) + str(self.previous_hash)).encode()
        sha.update(hash_str)
        return sha.hexdigest()

# Blockchain structure
class Blockchain:
    def __init__(self):
        self.chain = [self.create_genesis_block()]

    def create_genesis_block(self):
        return Block(0, time.time(), "Genesis Block", "0")

    def add_block(self, data):
        last_block = self.chain[-1]
        new_block = Block(len(self.chain), time.time(), data, last_block.hash)
        self.chain.append(new_block)

# Example usage
if __name__ == "__main__":
    blockchain = Blockchain()

    # Sample candidates
    candidate1 = Candidate(1, "Alice", "Party A")
    candidate2 = Candidate(2, "Bob", "Party B")

    # Adding candidates to the blockchain
    blockchain.add_block(vars(candidate1))
    blockchain.add_block(vars(candidate2))

    # Display blockchain
    for block in blockchain.chain:
        print(f"Block {block.index}: {block.data}")
