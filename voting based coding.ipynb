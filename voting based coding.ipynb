<!DOCTYPE html>
<html lang="en">
<head>
    <meta charset="UTF-8">
    <meta name="viewport" content="width=device-width, initial-scale=1.0">
    <title>Blockchain Voting System</title>
    <style>
        body {
            font-family: Arial, sans-serif;
            line-height: 1.6;
            margin: 0;
            padding: 20px;
        }
        .container {
            max-width: 800px;
            margin: 0 auto;
        }
        h1 {
            color: #333;
        }
        .section {
            margin-bottom: 20px;
        }
        .button {
            display: inline-block;
            background-color: #4CAF50;
            color: white;
            padding: 10px 20px;
            text-decoration: none;
            border-radius: 5px;
        }
    </style>
</head>
<body>
    <div class="container">
        <h1>Blockchain Voting System</h1>
        
        <div class="section">
            <h2>Voter Authentication</h2>
            <form>
                <label for="voter-id">Voter ID:</label>
                <input type="text" id="voter-id" name="voter-id" required>
                <br><br>
                <label for="password">Password:</label>
                <input type="password" id="password" name="password" required>
                <br><br>
                <input type="submit" value="Authenticate" class="button">
            </form>
        </div>
        
        <div class="section">
            <h2>Cast Your Vote</h2>
            <form>
                <h3>Select your candidate:</h3>
                <input type="radio" id="candidate1" name="candidate" value="candidate1">
                <label for="candidate1">Candidate 1</label><br>
                <input type="radio" id="candidate2" name="candidate" value="candidate2">
                <label for="candidate2">Candidate 2</label><br>
                <input type="radio" id="candidate3" name="candidate" value="candidate3">
                <label for="candidate3">Candidate 3</label><br><br>
                <input type="submit" value="Cast Vote" class="button">
            </form>
        </div>
        
        <div class="section">
            <h2>Verify Your Vote</h2>
            <form>
                <label for="vote-id">Vote ID:</label>
                <input type="text" id="vote-id" name="vote-id" required>
                <br><br>
                <input type="submit" value="Verify Vote" class="button">
            </form>
        </div>
        
        <div class="section">
            <h2>Election Results</h2>
            <p>Real-time results will be displayed here as votes are counted.</p>
            <a href="#" class="button">View Detailed Results</a>
        </div>
    </div>
</body>
</html>
